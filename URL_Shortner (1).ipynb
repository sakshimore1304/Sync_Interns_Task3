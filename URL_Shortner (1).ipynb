{
 "cells": [
  {
   "cell_type": "markdown",
   "id": "2a616a43",
   "metadata": {},
   "source": [
    "# URL SHORTNER USING PYTHON AND TKINTER"
   ]
  },
  {
   "cell_type": "markdown",
   "id": "10b54c4a",
   "metadata": {},
   "source": [
    "### THIS PROJECT IS DONE BY SAKSHI K MORE"
   ]
  },
  {
   "cell_type": "markdown",
   "id": "4dbf5062",
   "metadata": {},
   "source": [
    "##### importing all the required libraries"
   ]
  },
  {
   "cell_type": "code",
   "execution_count": 4,
   "id": "4e3dee2d",
   "metadata": {},
   "outputs": [],
   "source": [
    "import pandas as pd\n",
    "import numpy as np\n",
    "import tkinter as tk\n",
    "from tkinter import *\n",
    "from tkinter import messagebox\n",
    "import pyshorteners"
   ]
  },
  {
   "cell_type": "code",
   "execution_count": 5,
   "id": "200ce04b",
   "metadata": {},
   "outputs": [],
   "source": [
    "def shorten():\n",
    "    url=e1.get()\n",
    "    short=pyshorteners.Shortener().tinyurl.short(url)\n",
    "    \n",
    "    e2.insert(END,short)"
   ]
  },
  {
   "cell_type": "code",
   "execution_count": null,
   "id": "b55900f9",
   "metadata": {},
   "outputs": [],
   "source": [
    "window=Tk()\n",
    "window.title('URL SHORTNER')\n",
    "window.minsize(width=300,height=300)\n",
    "window.configure(bg='#008080')\n",
    "l1=Label(window,text='Welcome To URL Shortner!!!',bg='black',fg='#00FFFF')\n",
    "l1.place(x=80,y=20)\n",
    "l2=Label(window,text='Enter your URL',bg='black',fg='#00FFFF')\n",
    "l2.place(x=105,y=70)\n",
    "e1=Entry(bd=2,width=42)\n",
    "e1.place(x=20,y=120)\n",
    "b1=Button(window,text='Click to shorten',width=12,height=2,bg='Black',fg='#00FFFF',command=shorten)\n",
    "b1.place(x=100,y=160)\n",
    "e2=Entry(width=35,bg='#008080',fg='black')\n",
    "e2.place(x=40,y=230)\n",
    "l3=Label(window,text='Here is shorten URL',bg='black',fg='#00FFFF')\n",
    "l3.place(x=105,y=260)\n",
    "window.mainloop()"
   ]
  },
  {
   "cell_type": "code",
   "execution_count": null,
   "id": "87636748",
   "metadata": {},
   "outputs": [],
   "source": []
  }
 ],
 "metadata": {
  "kernelspec": {
   "display_name": "Python 3",
   "language": "python",
   "name": "python3"
  },
  "language_info": {
   "codemirror_mode": {
    "name": "ipython",
    "version": 3
   },
   "file_extension": ".py",
   "mimetype": "text/x-python",
   "name": "python",
   "nbconvert_exporter": "python",
   "pygments_lexer": "ipython3",
   "version": "3.8.8"
  }
 },
 "nbformat": 4,
 "nbformat_minor": 5
}
